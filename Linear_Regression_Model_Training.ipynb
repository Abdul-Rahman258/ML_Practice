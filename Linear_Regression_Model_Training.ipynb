{
  "nbformat": 4,
  "nbformat_minor": 0,
  "metadata": {
    "colab": {
      "provenance": [],
      "authorship_tag": "ABX9TyPXZViWVI+ulCQZuAKmeHiV",
      "include_colab_link": true
    },
    "kernelspec": {
      "name": "python3",
      "display_name": "Python 3"
    },
    "language_info": {
      "name": "python"
    }
  },
  "cells": [
    {
      "cell_type": "markdown",
      "metadata": {
        "id": "view-in-github",
        "colab_type": "text"
      },
      "source": [
        "<a href=\"https://colab.research.google.com/github/Abdul-Rahman258/ML_Practice/blob/main/Linear_Regression_Model_Training.ipynb\" target=\"_parent\"><img src=\"https://colab.research.google.com/assets/colab-badge.svg\" alt=\"Open In Colab\"/></a>"
      ]
    },
    {
      "source": [
        "# Task\n",
        "take this data set analyze it perform data preprocessing on it then move it through EDA and then train the model using linear regression and dont forget to add key points after each block of code for better understanding and why you performed a specific task\n",
        "\n",
        "Here is all the data you need:\n",
        "\"Salary_dataset.csv\""
      ],
      "cell_type": "markdown",
      "metadata": {
        "id": "c3W5kvSnARsM"
      }
    },
    {
      "source": [
        "## Data loading\n",
        "\n",
        "### Subtask:\n",
        "Load the \"Salary_dataset.csv\" file into a pandas DataFrame.\n"
      ],
      "cell_type": "markdown",
      "metadata": {
        "id": "rVeI_7ZWAR8K"
      }
    },
    {
      "source": [
        "**Reasoning**:\n",
        "Load the dataset, display its basic information, and check its structure.\n",
        "\n"
      ],
      "cell_type": "markdown",
      "metadata": {
        "id": "H62x9G0vASzj"
      }
    },
    {
      "source": [
        "import pandas as pd\n",
        "\n",
        "try:\n",
        "    df = pd.read_csv('Salary_dataset.csv')\n",
        "    display(df.head())\n",
        "    print(f\"Shape of the DataFrame: {df.shape}\")\n",
        "    print(f\"Columns in the DataFrame: {df.columns}\")\n",
        "    print(f\"Data types of each column:\\n{df.dtypes}\")\n",
        "    df.info()\n",
        "except FileNotFoundError:\n",
        "    print(\"Error: 'Salary_dataset.csv' not found. Please ensure the file is in the correct location.\")\n",
        "except Exception as e:\n",
        "    print(f\"An unexpected error occurred: {e}\")"
      ],
      "cell_type": "code",
      "metadata": {
        "colab": {
          "base_uri": "https://localhost:8080/",
          "height": 501
        },
        "id": "sWdx8GMvATDW",
        "outputId": "de383642-0107-4b71-dd75-737ee71b992c"
      },
      "execution_count": 11,
      "outputs": [
        {
          "output_type": "display_data",
          "data": {
            "text/plain": [
              "   Unnamed: 0  YearsExperience   Salary\n",
              "0           0              1.2  39344.0\n",
              "1           1              1.4  46206.0\n",
              "2           2              1.6  37732.0\n",
              "3           3              2.1  43526.0\n",
              "4           4              2.3  39892.0"
            ],
            "text/html": [
              "\n",
              "  <div id=\"df-80297d2f-2d37-47e4-83ef-6d25211dc107\" class=\"colab-df-container\">\n",
              "    <div>\n",
              "<style scoped>\n",
              "    .dataframe tbody tr th:only-of-type {\n",
              "        vertical-align: middle;\n",
              "    }\n",
              "\n",
              "    .dataframe tbody tr th {\n",
              "        vertical-align: top;\n",
              "    }\n",
              "\n",
              "    .dataframe thead th {\n",
              "        text-align: right;\n",
              "    }\n",
              "</style>\n",
              "<table border=\"1\" class=\"dataframe\">\n",
              "  <thead>\n",
              "    <tr style=\"text-align: right;\">\n",
              "      <th></th>\n",
              "      <th>Unnamed: 0</th>\n",
              "      <th>YearsExperience</th>\n",
              "      <th>Salary</th>\n",
              "    </tr>\n",
              "  </thead>\n",
              "  <tbody>\n",
              "    <tr>\n",
              "      <th>0</th>\n",
              "      <td>0</td>\n",
              "      <td>1.2</td>\n",
              "      <td>39344.0</td>\n",
              "    </tr>\n",
              "    <tr>\n",
              "      <th>1</th>\n",
              "      <td>1</td>\n",
              "      <td>1.4</td>\n",
              "      <td>46206.0</td>\n",
              "    </tr>\n",
              "    <tr>\n",
              "      <th>2</th>\n",
              "      <td>2</td>\n",
              "      <td>1.6</td>\n",
              "      <td>37732.0</td>\n",
              "    </tr>\n",
              "    <tr>\n",
              "      <th>3</th>\n",
              "      <td>3</td>\n",
              "      <td>2.1</td>\n",
              "      <td>43526.0</td>\n",
              "    </tr>\n",
              "    <tr>\n",
              "      <th>4</th>\n",
              "      <td>4</td>\n",
              "      <td>2.3</td>\n",
              "      <td>39892.0</td>\n",
              "    </tr>\n",
              "  </tbody>\n",
              "</table>\n",
              "</div>\n",
              "    <div class=\"colab-df-buttons\">\n",
              "\n",
              "  <div class=\"colab-df-container\">\n",
              "    <button class=\"colab-df-convert\" onclick=\"convertToInteractive('df-80297d2f-2d37-47e4-83ef-6d25211dc107')\"\n",
              "            title=\"Convert this dataframe to an interactive table.\"\n",
              "            style=\"display:none;\">\n",
              "\n",
              "  <svg xmlns=\"http://www.w3.org/2000/svg\" height=\"24px\" viewBox=\"0 -960 960 960\">\n",
              "    <path d=\"M120-120v-720h720v720H120Zm60-500h600v-160H180v160Zm220 220h160v-160H400v160Zm0 220h160v-160H400v160ZM180-400h160v-160H180v160Zm440 0h160v-160H620v160ZM180-180h160v-160H180v160Zm440 0h160v-160H620v160Z\"/>\n",
              "  </svg>\n",
              "    </button>\n",
              "\n",
              "  <style>\n",
              "    .colab-df-container {\n",
              "      display:flex;\n",
              "      gap: 12px;\n",
              "    }\n",
              "\n",
              "    .colab-df-convert {\n",
              "      background-color: #E8F0FE;\n",
              "      border: none;\n",
              "      border-radius: 50%;\n",
              "      cursor: pointer;\n",
              "      display: none;\n",
              "      fill: #1967D2;\n",
              "      height: 32px;\n",
              "      padding: 0 0 0 0;\n",
              "      width: 32px;\n",
              "    }\n",
              "\n",
              "    .colab-df-convert:hover {\n",
              "      background-color: #E2EBFA;\n",
              "      box-shadow: 0px 1px 2px rgba(60, 64, 67, 0.3), 0px 1px 3px 1px rgba(60, 64, 67, 0.15);\n",
              "      fill: #174EA6;\n",
              "    }\n",
              "\n",
              "    .colab-df-buttons div {\n",
              "      margin-bottom: 4px;\n",
              "    }\n",
              "\n",
              "    [theme=dark] .colab-df-convert {\n",
              "      background-color: #3B4455;\n",
              "      fill: #D2E3FC;\n",
              "    }\n",
              "\n",
              "    [theme=dark] .colab-df-convert:hover {\n",
              "      background-color: #434B5C;\n",
              "      box-shadow: 0px 1px 3px 1px rgba(0, 0, 0, 0.15);\n",
              "      filter: drop-shadow(0px 1px 2px rgba(0, 0, 0, 0.3));\n",
              "      fill: #FFFFFF;\n",
              "    }\n",
              "  </style>\n",
              "\n",
              "    <script>\n",
              "      const buttonEl =\n",
              "        document.querySelector('#df-80297d2f-2d37-47e4-83ef-6d25211dc107 button.colab-df-convert');\n",
              "      buttonEl.style.display =\n",
              "        google.colab.kernel.accessAllowed ? 'block' : 'none';\n",
              "\n",
              "      async function convertToInteractive(key) {\n",
              "        const element = document.querySelector('#df-80297d2f-2d37-47e4-83ef-6d25211dc107');\n",
              "        const dataTable =\n",
              "          await google.colab.kernel.invokeFunction('convertToInteractive',\n",
              "                                                    [key], {});\n",
              "        if (!dataTable) return;\n",
              "\n",
              "        const docLinkHtml = 'Like what you see? Visit the ' +\n",
              "          '<a target=\"_blank\" href=https://colab.research.google.com/notebooks/data_table.ipynb>data table notebook</a>'\n",
              "          + ' to learn more about interactive tables.';\n",
              "        element.innerHTML = '';\n",
              "        dataTable['output_type'] = 'display_data';\n",
              "        await google.colab.output.renderOutput(dataTable, element);\n",
              "        const docLink = document.createElement('div');\n",
              "        docLink.innerHTML = docLinkHtml;\n",
              "        element.appendChild(docLink);\n",
              "      }\n",
              "    </script>\n",
              "  </div>\n",
              "\n",
              "\n",
              "    <div id=\"df-c2cf2fe0-0672-4006-80c0-b84b0f3ff2e8\">\n",
              "      <button class=\"colab-df-quickchart\" onclick=\"quickchart('df-c2cf2fe0-0672-4006-80c0-b84b0f3ff2e8')\"\n",
              "                title=\"Suggest charts\"\n",
              "                style=\"display:none;\">\n",
              "\n",
              "<svg xmlns=\"http://www.w3.org/2000/svg\" height=\"24px\"viewBox=\"0 0 24 24\"\n",
              "     width=\"24px\">\n",
              "    <g>\n",
              "        <path d=\"M19 3H5c-1.1 0-2 .9-2 2v14c0 1.1.9 2 2 2h14c1.1 0 2-.9 2-2V5c0-1.1-.9-2-2-2zM9 17H7v-7h2v7zm4 0h-2V7h2v10zm4 0h-2v-4h2v4z\"/>\n",
              "    </g>\n",
              "</svg>\n",
              "      </button>\n",
              "\n",
              "<style>\n",
              "  .colab-df-quickchart {\n",
              "      --bg-color: #E8F0FE;\n",
              "      --fill-color: #1967D2;\n",
              "      --hover-bg-color: #E2EBFA;\n",
              "      --hover-fill-color: #174EA6;\n",
              "      --disabled-fill-color: #AAA;\n",
              "      --disabled-bg-color: #DDD;\n",
              "  }\n",
              "\n",
              "  [theme=dark] .colab-df-quickchart {\n",
              "      --bg-color: #3B4455;\n",
              "      --fill-color: #D2E3FC;\n",
              "      --hover-bg-color: #434B5C;\n",
              "      --hover-fill-color: #FFFFFF;\n",
              "      --disabled-bg-color: #3B4455;\n",
              "      --disabled-fill-color: #666;\n",
              "  }\n",
              "\n",
              "  .colab-df-quickchart {\n",
              "    background-color: var(--bg-color);\n",
              "    border: none;\n",
              "    border-radius: 50%;\n",
              "    cursor: pointer;\n",
              "    display: none;\n",
              "    fill: var(--fill-color);\n",
              "    height: 32px;\n",
              "    padding: 0;\n",
              "    width: 32px;\n",
              "  }\n",
              "\n",
              "  .colab-df-quickchart:hover {\n",
              "    background-color: var(--hover-bg-color);\n",
              "    box-shadow: 0 1px 2px rgba(60, 64, 67, 0.3), 0 1px 3px 1px rgba(60, 64, 67, 0.15);\n",
              "    fill: var(--button-hover-fill-color);\n",
              "  }\n",
              "\n",
              "  .colab-df-quickchart-complete:disabled,\n",
              "  .colab-df-quickchart-complete:disabled:hover {\n",
              "    background-color: var(--disabled-bg-color);\n",
              "    fill: var(--disabled-fill-color);\n",
              "    box-shadow: none;\n",
              "  }\n",
              "\n",
              "  .colab-df-spinner {\n",
              "    border: 2px solid var(--fill-color);\n",
              "    border-color: transparent;\n",
              "    border-bottom-color: var(--fill-color);\n",
              "    animation:\n",
              "      spin 1s steps(1) infinite;\n",
              "  }\n",
              "\n",
              "  @keyframes spin {\n",
              "    0% {\n",
              "      border-color: transparent;\n",
              "      border-bottom-color: var(--fill-color);\n",
              "      border-left-color: var(--fill-color);\n",
              "    }\n",
              "    20% {\n",
              "      border-color: transparent;\n",
              "      border-left-color: var(--fill-color);\n",
              "      border-top-color: var(--fill-color);\n",
              "    }\n",
              "    30% {\n",
              "      border-color: transparent;\n",
              "      border-left-color: var(--fill-color);\n",
              "      border-top-color: var(--fill-color);\n",
              "      border-right-color: var(--fill-color);\n",
              "    }\n",
              "    40% {\n",
              "      border-color: transparent;\n",
              "      border-right-color: var(--fill-color);\n",
              "      border-top-color: var(--fill-color);\n",
              "    }\n",
              "    60% {\n",
              "      border-color: transparent;\n",
              "      border-right-color: var(--fill-color);\n",
              "    }\n",
              "    80% {\n",
              "      border-color: transparent;\n",
              "      border-right-color: var(--fill-color);\n",
              "      border-bottom-color: var(--fill-color);\n",
              "    }\n",
              "    90% {\n",
              "      border-color: transparent;\n",
              "      border-bottom-color: var(--fill-color);\n",
              "    }\n",
              "  }\n",
              "</style>\n",
              "\n",
              "      <script>\n",
              "        async function quickchart(key) {\n",
              "          const quickchartButtonEl =\n",
              "            document.querySelector('#' + key + ' button');\n",
              "          quickchartButtonEl.disabled = true;  // To prevent multiple clicks.\n",
              "          quickchartButtonEl.classList.add('colab-df-spinner');\n",
              "          try {\n",
              "            const charts = await google.colab.kernel.invokeFunction(\n",
              "                'suggestCharts', [key], {});\n",
              "          } catch (error) {\n",
              "            console.error('Error during call to suggestCharts:', error);\n",
              "          }\n",
              "          quickchartButtonEl.classList.remove('colab-df-spinner');\n",
              "          quickchartButtonEl.classList.add('colab-df-quickchart-complete');\n",
              "        }\n",
              "        (() => {\n",
              "          let quickchartButtonEl =\n",
              "            document.querySelector('#df-c2cf2fe0-0672-4006-80c0-b84b0f3ff2e8 button');\n",
              "          quickchartButtonEl.style.display =\n",
              "            google.colab.kernel.accessAllowed ? 'block' : 'none';\n",
              "        })();\n",
              "      </script>\n",
              "    </div>\n",
              "\n",
              "    </div>\n",
              "  </div>\n"
            ],
            "application/vnd.google.colaboratory.intrinsic+json": {
              "type": "dataframe",
              "summary": "{\n  \"name\": \"    print(f\\\"An unexpected error occurred: {e}\\\")\",\n  \"rows\": 5,\n  \"fields\": [\n    {\n      \"column\": \"Unnamed: 0\",\n      \"properties\": {\n        \"dtype\": \"number\",\n        \"std\": 1,\n        \"min\": 0,\n        \"max\": 4,\n        \"num_unique_values\": 5,\n        \"samples\": [\n          1,\n          4,\n          2\n        ],\n        \"semantic_type\": \"\",\n        \"description\": \"\"\n      }\n    },\n    {\n      \"column\": \"YearsExperience\",\n      \"properties\": {\n        \"dtype\": \"number\",\n        \"std\": 0.4658325879540847,\n        \"min\": 1.2000000000000002,\n        \"max\": 2.3000000000000003,\n        \"num_unique_values\": 5,\n        \"samples\": [\n          1.4,\n          2.3000000000000003,\n          1.6\n        ],\n        \"semantic_type\": \"\",\n        \"description\": \"\"\n      }\n    },\n    {\n      \"column\": \"Salary\",\n      \"properties\": {\n        \"dtype\": \"number\",\n        \"std\": 3448.0043503452835,\n        \"min\": 37732.0,\n        \"max\": 46206.0,\n        \"num_unique_values\": 5,\n        \"samples\": [\n          46206.0,\n          39892.0,\n          37732.0\n        ],\n        \"semantic_type\": \"\",\n        \"description\": \"\"\n      }\n    }\n  ]\n}"
            }
          },
          "metadata": {}
        },
        {
          "output_type": "stream",
          "name": "stdout",
          "text": [
            "Shape of the DataFrame: (30, 3)\n",
            "Columns in the DataFrame: Index(['Unnamed: 0', 'YearsExperience', 'Salary'], dtype='object')\n",
            "Data types of each column:\n",
            "Unnamed: 0           int64\n",
            "YearsExperience    float64\n",
            "Salary             float64\n",
            "dtype: object\n",
            "<class 'pandas.core.frame.DataFrame'>\n",
            "RangeIndex: 30 entries, 0 to 29\n",
            "Data columns (total 3 columns):\n",
            " #   Column           Non-Null Count  Dtype  \n",
            "---  ------           --------------  -----  \n",
            " 0   Unnamed: 0       30 non-null     int64  \n",
            " 1   YearsExperience  30 non-null     float64\n",
            " 2   Salary           30 non-null     float64\n",
            "dtypes: float64(2), int64(1)\n",
            "memory usage: 852.0 bytes\n"
          ]
        }
      ]
    },
    {
      "source": [
        "## Data exploration\n",
        "\n",
        "### Subtask:\n",
        "Explore the dataset to understand its characteristics.\n"
      ],
      "cell_type": "markdown",
      "metadata": {
        "id": "mU2jCSUuAWTU"
      }
    },
    {
      "source": [
        "**Reasoning**:\n",
        "Explore the dataset by examining data types, checking for missing values, calculating descriptive statistics, creating visualizations, and calculating correlations.\n",
        "\n"
      ],
      "cell_type": "markdown",
      "metadata": {
        "id": "mp69UQAxAXH4"
      }
    },
    {
      "source": [
        "# Check data types\n",
        "print(\"Data Types:\\n\", df.dtypes)\n",
        "\n",
        "# Check for missing values\n",
        "print(\"\\nMissing Values:\\n\", df.isnull().sum())\n",
        "missing_percentage = (df.isnull().sum() / len(df)) * 100\n",
        "print(\"\\nPercentage of Missing Values:\\n\", missing_percentage)\n",
        "\n",
        "# Descriptive statistics\n",
        "print(\"\\nDescriptive Statistics:\\n\", df.describe())\n",
        "\n",
        "# Visualizations (Histograms and Box Plots)\n",
        "import matplotlib.pyplot as plt\n",
        "\n",
        "plt.figure(figsize=(12, 6))\n",
        "plt.subplot(1, 2, 1)\n",
        "plt.hist(df['YearsExperience'], bins=10, color='skyblue', edgecolor='black')\n",
        "plt.xlabel('Years of Experience')\n",
        "plt.ylabel('Frequency')\n",
        "plt.title('Distribution of Years of Experience')\n",
        "\n",
        "plt.subplot(1, 2, 2)\n",
        "plt.boxplot(df['YearsExperience'], vert=False, patch_artist=True, boxprops=dict(facecolor='lightcoral'))\n",
        "plt.xlabel('Years of Experience')\n",
        "plt.title('Box Plot of Years of Experience')\n",
        "\n",
        "plt.tight_layout()\n",
        "plt.show()\n",
        "\n",
        "plt.figure(figsize=(12, 6))\n",
        "plt.subplot(1, 2, 1)\n",
        "plt.hist(df['Salary'], bins=10, color='lightgreen', edgecolor='black')\n",
        "plt.xlabel('Salary')\n",
        "plt.ylabel('Frequency')\n",
        "plt.title('Distribution of Salary')\n",
        "\n",
        "\n",
        "plt.subplot(1, 2, 2)\n",
        "plt.boxplot(df['Salary'], vert=False, patch_artist=True, boxprops=dict(facecolor='lightblue'))\n",
        "plt.xlabel('Salary')\n",
        "plt.title('Box Plot of Salary')\n",
        "\n",
        "plt.tight_layout()\n",
        "plt.show()\n",
        "\n",
        "\n",
        "# Correlation\n",
        "correlation = df['YearsExperience'].corr(df['Salary'])\n",
        "print(f\"\\nCorrelation between Years of Experience and Salary: {correlation}\")\n",
        "\n",
        "plt.figure(figsize=(8, 6))\n",
        "plt.scatter(df['YearsExperience'], df['Salary'], color='purple', alpha=0.7)\n",
        "plt.xlabel('Years of Experience')\n",
        "plt.ylabel('Salary')\n",
        "plt.title('Scatter Plot of Years of Experience vs. Salary')\n",
        "plt.grid(True)\n",
        "plt.show()"
      ],
      "cell_type": "code",
      "metadata": {
        "colab": {
          "base_uri": "https://localhost:8080/",
          "height": 1000
        },
        "id": "BV12bnJ0AXXq",
        "outputId": "96670d31-c94e-4f03-b02b-40135b435b20"
      },
      "execution_count": 12,
      "outputs": [
        {
          "output_type": "stream",
          "name": "stdout",
          "text": [
            "Data Types:\n",
            " Unnamed: 0           int64\n",
            "YearsExperience    float64\n",
            "Salary             float64\n",
            "dtype: object\n",
            "\n",
            "Missing Values:\n",
            " Unnamed: 0         0\n",
            "YearsExperience    0\n",
            "Salary             0\n",
            "dtype: int64\n",
            "\n",
            "Percentage of Missing Values:\n",
            " Unnamed: 0         0.0\n",
            "YearsExperience    0.0\n",
            "Salary             0.0\n",
            "dtype: float64\n",
            "\n",
            "Descriptive Statistics:\n",
            "        Unnamed: 0  YearsExperience         Salary\n",
            "count   30.000000        30.000000      30.000000\n",
            "mean    14.500000         5.413333   76004.000000\n",
            "std      8.803408         2.837888   27414.429785\n",
            "min      0.000000         1.200000   37732.000000\n",
            "25%      7.250000         3.300000   56721.750000\n",
            "50%     14.500000         4.800000   65238.000000\n",
            "75%     21.750000         7.800000  100545.750000\n",
            "max     29.000000        10.600000  122392.000000\n"
          ]
        },
        {
          "output_type": "display_data",
          "data": {
            "text/plain": [
              "<Figure size 1200x600 with 2 Axes>"
            ],
            "image/png": "[encoded data removed]"
          },
          "metadata": {}
        },
        {
          "output_type": "display_data",
          "data": {
            "text/plain": [
              "<Figure size 1200x600 with 2 Axes>"
            ],
            "image/png": "[encoded data removed]"
          },
          "metadata": {}
        },
        {
          "output_type": "stream",
          "name": "stdout",
          "text": [
            "\n",
            "Correlation between Years of Experience and Salary: 0.9782416184887599\n"
          ]
        },
        {
          "output_type": "display_data",
          "data": {
            "text/plain": [
              "<Figure size 800x600 with 1 Axes>"
            ],
            "image/png": "[encoded data removed]"
          },
          "metadata": {}
        }
      ]
    },
    {
      "source": [
        "## Data cleaning\n",
        "\n",
        "### Subtask:\n",
        "Handle potential outliers in the 'YearsExperience' and 'Salary' columns of the DataFrame `df`.\n"
      ],
      "cell_type": "markdown",
      "metadata": {
        "id": "g-7rO0Q6Aa7D"
      }
    },
    {
      "source": [
        "**Reasoning**:\n",
        "Examine the box plots of 'YearsExperience' and 'Salary' to identify potential outliers. Then, implement a strategy to handle these outliers by winsorizing the data. Finally, re-examine the distributions to visually confirm the outlier handling.\n",
        "\n"
      ],
      "cell_type": "markdown",
      "metadata": {
        "id": "iSrDJdHgAcWg"
      }
    },
    {
      "source": [
        "import matplotlib.pyplot as plt\n",
        "import numpy as np\n",
        "\n",
        "# Identify potential outliers from the box plots generated previously\n",
        "# and winsorize the 'YearsExperience' and 'Salary' columns.\n",
        "# Winsorizing limits extreme values to a specified percentile,\n",
        "# effectively capping outliers without removing them entirely.\n",
        "\n",
        "# Winsorize YearsExperience\n",
        "lower_bound_years = np.percentile(df['YearsExperience'], 1)  # 1st percentile\n",
        "upper_bound_years = np.percentile(df['YearsExperience'], 99) # 99th percentile\n",
        "df['YearsExperience'] = np.clip(df['YearsExperience'], lower_bound_years, upper_bound_years)\n",
        "\n",
        "# Winsorize Salary\n",
        "lower_bound_salary = np.percentile(df['Salary'], 1)    # 1st percentile\n",
        "upper_bound_salary = np.percentile(df['Salary'], 99)   # 99th percentile\n",
        "df['Salary'] = np.clip(df['Salary'], lower_bound_salary, upper_bound_salary)\n",
        "\n",
        "\n",
        "# Re-examine the distribution of 'YearsExperience' and 'Salary'\n",
        "plt.figure(figsize=(12, 6))\n",
        "plt.subplot(1, 2, 1)\n",
        "plt.hist(df['YearsExperience'], bins=10, color='skyblue', edgecolor='black')\n",
        "plt.xlabel('Years of Experience')\n",
        "plt.ylabel('Frequency')\n",
        "plt.title('Distribution of Years of Experience (After Winsorizing)')\n",
        "\n",
        "plt.subplot(1, 2, 2)\n",
        "plt.boxplot(df['YearsExperience'], vert=False, patch_artist=True, boxprops=dict(facecolor='lightcoral'))\n",
        "plt.xlabel('Years of Experience')\n",
        "plt.title('Box Plot of Years of Experience (After Winsorizing)')\n",
        "\n",
        "plt.tight_layout()\n",
        "plt.show()\n",
        "\n",
        "plt.figure(figsize=(12, 6))\n",
        "plt.subplot(1, 2, 1)\n",
        "plt.hist(df['Salary'], bins=10, color='lightgreen', edgecolor='black')\n",
        "plt.xlabel('Salary')\n",
        "plt.ylabel('Frequency')\n",
        "plt.title('Distribution of Salary (After Winsorizing)')\n",
        "\n",
        "\n",
        "plt.subplot(1, 2, 2)\n",
        "plt.boxplot(df['Salary'], vert=False, patch_artist=True, boxprops=dict(facecolor='lightblue'))\n",
        "plt.xlabel('Salary')\n",
        "plt.title('Box Plot of Salary (After Winsorizing)')\n",
        "\n",
        "plt.tight_layout()\n",
        "plt.show()"
      ],
      "cell_type": "code",
      "metadata": {
        "colab": {
          "base_uri": "https://localhost:8080/",
          "height": 1000
        },
        "id": "YUiZZF5XAcme",
        "outputId": "55664c1a-0503-4e98-d7e8-a26dfe500e96"
      },
      "execution_count": 13,
      "outputs": [
        {
          "output_type": "display_data",
          "data": {
            "text/plain": [
              "<Figure size 1200x600 with 2 Axes>"
            ],
            "image/png": "[encoded data removed]"
          },
          "metadata": {}
        },
        {
          "output_type": "display_data",
          "data": {
            "text/plain": [
              "<Figure size 1200x600 with 2 Axes>"
            ],
            "image/png": "[encoded data removed]"
          },
          "metadata": {}
        }
      ]
    },
    {
      "source": [
        "## Feature engineering\n",
        "\n",
        "### Subtask:\n",
        "Prepare the data for model training by dropping the unnecessary column 'Unnamed: 0' and scaling the numerical features ('YearsExperience' and 'Salary').\n"
      ],
      "cell_type": "markdown",
      "metadata": {
        "id": "b9dPvdC2AgMv"
      }
    },
    {
      "source": [
        "**Reasoning**:\n",
        "Drop the unnecessary column 'Unnamed: 0' and scale the numerical features 'YearsExperience' and 'Salary' using StandardScaler.\n",
        "\n"
      ],
      "cell_type": "markdown",
      "metadata": {
        "id": "YTJYqt8CAhBT"
      }
    },
    {
      "source": [
        "from sklearn.preprocessing import StandardScaler\n",
        "\n",
        "# Drop the 'Unnamed: 0' column\n",
        "df = df.drop('Unnamed: 0', axis=1)\n",
        "\n",
        "# Scale 'YearsExperience' and 'Salary'\n",
        "scaler = StandardScaler()\n",
        "numerical_cols = ['YearsExperience', 'Salary']\n",
        "df[numerical_cols] = scaler.fit_transform(df[numerical_cols])\n",
        "\n",
        "# Display the first few rows of the updated DataFrame\n",
        "display(df.head())"
      ],
      "cell_type": "code",
      "metadata": {
        "colab": {
          "base_uri": "https://localhost:8080/",
          "height": 206
        },
        "id": "GZH7nk9eAhRS",
        "outputId": "13ba1122-628d-4103-c905-b2adf725a723"
      },
      "execution_count": 14,
      "outputs": [
        {
          "output_type": "display_data",
          "data": {
            "text/plain": [
              "   YearsExperience    Salary\n",
              "0        -1.492733 -1.362052\n",
              "1        -1.441722 -1.107178\n",
              "2        -1.369875 -1.404563\n",
              "3        -1.190259 -1.206721\n",
              "4        -1.118412 -1.341698"
            ],
            "text/html": [
              "\n",
              "  <div id=\"df-61385746-bfcb-4684-bfd0-46e12a4c8649\" class=\"colab-df-container\">\n",
              "    <div>\n",
              "<style scoped>\n",
              "    .dataframe tbody tr th:only-of-type {\n",
              "        vertical-align: middle;\n",
              "    }\n",
              "\n",
              "    .dataframe tbody tr th {\n",
              "        vertical-align: top;\n",
              "    }\n",
              "\n",
              "    .dataframe thead th {\n",
              "        text-align: right;\n",
              "    }\n",
              "</style>\n",
              "<table border=\"1\" class=\"dataframe\">\n",
              "  <thead>\n",
              "    <tr style=\"text-align: right;\">\n",
              "      <th></th>\n",
              "      <th>YearsExperience</th>\n",
              "      <th>Salary</th>\n",
              "    </tr>\n",
              "  </thead>\n",
              "  <tbody>\n",
              "    <tr>\n",
              "      <th>0</th>\n",
              "      <td>-1.492733</td>\n",
              "      <td>-1.362052</td>\n",
              "    </tr>\n",
              "    <tr>\n",
              "      <th>1</th>\n",
              "      <td>-1.441722</td>\n",
              "      <td>-1.107178</td>\n",
              "    </tr>\n",
              "    <tr>\n",
              "      <th>2</th>\n",
              "      <td>-1.369875</td>\n",
              "      <td>-1.404563</td>\n",
              "    </tr>\n",
              "    <tr>\n",
              "      <th>3</th>\n",
              "      <td>-1.190259</td>\n",
              "      <td>-1.206721</td>\n",
              "    </tr>\n",
              "    <tr>\n",
              "      <th>4</th>\n",
              "      <td>-1.118412</td>\n",
              "      <td>-1.341698</td>\n",
              "    </tr>\n",
              "  </tbody>\n",
              "</table>\n",
              "</div>\n",
              "    <div class=\"colab-df-buttons\">\n",
              "\n",
              "  <div class=\"colab-df-container\">\n",
              "    <button class=\"colab-df-convert\" onclick=\"convertToInteractive('df-61385746-bfcb-4684-bfd0-46e12a4c8649')\"\n",
              "            title=\"Convert this dataframe to an interactive table.\"\n",
              "            style=\"display:none;\">\n",
              "\n",
              "  <svg xmlns=\"http://www.w3.org/2000/svg\" height=\"24px\" viewBox=\"0 -960 960 960\">\n",
              "    <path d=\"M120-120v-720h720v720H120Zm60-500h600v-160H180v160Zm220 220h160v-160H400v160Zm0 220h160v-160H400v160ZM180-400h160v-160H180v160Zm440 0h160v-160H620v160ZM180-180h160v-160H180v160Zm440 0h160v-160H620v160Z\"/>\n",
              "  </svg>\n",
              "    </button>\n",
              "\n",
              "  <style>\n",
              "    .colab-df-container {\n",
              "      display:flex;\n",
              "      gap: 12px;\n",
              "    }\n",
              "\n",
              "    .colab-df-convert {\n",
              "      background-color: #E8F0FE;\n",
              "      border: none;\n",
              "      border-radius: 50%;\n",
              "      cursor: pointer;\n",
              "      display: none;\n",
              "      fill: #1967D2;\n",
              "      height: 32px;\n",
              "      padding: 0 0 0 0;\n",
              "      width: 32px;\n",
              "    }\n",
              "\n",
              "    .colab-df-convert:hover {\n",
              "      background-color: #E2EBFA;\n",
              "      box-shadow: 0px 1px 2px rgba(60, 64, 67, 0.3), 0px 1px 3px 1px rgba(60, 64, 67, 0.15);\n",
              "      fill: #174EA6;\n",
              "    }\n",
              "\n",
              "    .colab-df-buttons div {\n",
              "      margin-bottom: 4px;\n",
              "    }\n",
              "\n",
              "    [theme=dark] .colab-df-convert {\n",
              "      background-color: #3B4455;\n",
              "      fill: #D2E3FC;\n",
              "    }\n",
              "\n",
              "    [theme=dark] .colab-df-convert:hover {\n",
              "      background-color: #434B5C;\n",
              "      box-shadow: 0px 1px 3px 1px rgba(0, 0, 0, 0.15);\n",
              "      filter: drop-shadow(0px 1px 2px rgba(0, 0, 0, 0.3));\n",
              "      fill: #FFFFFF;\n",
              "    }\n",
              "  </style>\n",
              "\n",
              "    <script>\n",
              "      const buttonEl =\n",
              "        document.querySelector('#df-61385746-bfcb-4684-bfd0-46e12a4c8649 button.colab-df-convert');\n",
              "      buttonEl.style.display =\n",
              "        google.colab.kernel.accessAllowed ? 'block' : 'none';\n",
              "\n",
              "      async function convertToInteractive(key) {\n",
              "        const element = document.querySelector('#df-61385746-bfcb-4684-bfd0-46e12a4c8649');\n",
              "        const dataTable =\n",
              "          await google.colab.kernel.invokeFunction('convertToInteractive',\n",
              "                                                    [key], {});\n",
              "        if (!dataTable) return;\n",
              "\n",
              "        const docLinkHtml = 'Like what you see? Visit the ' +\n",
              "          '<a target=\"_blank\" href=https://colab.research.google.com/notebooks/data_table.ipynb>data table notebook</a>'\n",
              "          + ' to learn more about interactive tables.';\n",
              "        element.innerHTML = '';\n",
              "        dataTable['output_type'] = 'display_data';\n",
              "        await google.colab.output.renderOutput(dataTable, element);\n",
              "        const docLink = document.createElement('div');\n",
              "        docLink.innerHTML = docLinkHtml;\n",
              "        element.appendChild(docLink);\n",
              "      }\n",
              "    </script>\n",
              "  </div>\n",
              "\n",
              "\n",
              "    <div id=\"df-32042244-e0af-447f-880a-0ba2d61d3d68\">\n",
              "      <button class=\"colab-df-quickchart\" onclick=\"quickchart('df-32042244-e0af-447f-880a-0ba2d61d3d68')\"\n",
              "                title=\"Suggest charts\"\n",
              "                style=\"display:none;\">\n",
              "\n",
              "<svg xmlns=\"http://www.w3.org/2000/svg\" height=\"24px\"viewBox=\"0 0 24 24\"\n",
              "     width=\"24px\">\n",
              "    <g>\n",
              "        <path d=\"M19 3H5c-1.1 0-2 .9-2 2v14c0 1.1.9 2 2 2h14c1.1 0 2-.9 2-2V5c0-1.1-.9-2-2-2zM9 17H7v-7h2v7zm4 0h-2V7h2v10zm4 0h-2v-4h2v4z\"/>\n",
              "    </g>\n",
              "</svg>\n",
              "      </button>\n",
              "\n",
              "<style>\n",
              "  .colab-df-quickchart {\n",
              "      --bg-color: #E8F0FE;\n",
              "      --fill-color: #1967D2;\n",
              "      --hover-bg-color: #E2EBFA;\n",
              "      --hover-fill-color: #174EA6;\n",
              "      --disabled-fill-color: #AAA;\n",
              "      --disabled-bg-color: #DDD;\n",
              "  }\n",
              "\n",
              "  [theme=dark] .colab-df-quickchart {\n",
              "      --bg-color: #3B4455;\n",
              "      --fill-color: #D2E3FC;\n",
              "      --hover-bg-color: #434B5C;\n",
              "      --hover-fill-color: #FFFFFF;\n",
              "      --disabled-bg-color: #3B4455;\n",
              "      --disabled-fill-color: #666;\n",
              "  }\n",
              "\n",
              "  .colab-df-quickchart {\n",
              "    background-color: var(--bg-color);\n",
              "    border: none;\n",
              "    border-radius: 50%;\n",
              "    cursor: pointer;\n",
              "    display: none;\n",
              "    fill: var(--fill-color);\n",
              "    height: 32px;\n",
              "    padding: 0;\n",
              "    width: 32px;\n",
              "  }\n",
              "\n",
              "  .colab-df-quickchart:hover {\n",
              "    background-color: var(--hover-bg-color);\n",
              "    box-shadow: 0 1px 2px rgba(60, 64, 67, 0.3), 0 1px 3px 1px rgba(60, 64, 67, 0.15);\n",
              "    fill: var(--button-hover-fill-color);\n",
              "  }\n",
              "\n",
              "  .colab-df-quickchart-complete:disabled,\n",
              "  .colab-df-quickchart-complete:disabled:hover {\n",
              "    background-color: var(--disabled-bg-color);\n",
              "    fill: var(--disabled-fill-color);\n",
              "    box-shadow: none;\n",
              "  }\n",
              "\n",
              "  .colab-df-spinner {\n",
              "    border: 2px solid var(--fill-color);\n",
              "    border-color: transparent;\n",
              "    border-bottom-color: var(--fill-color);\n",
              "    animation:\n",
              "      spin 1s steps(1) infinite;\n",
              "  }\n",
              "\n",
              "  @keyframes spin {\n",
              "    0% {\n",
              "      border-color: transparent;\n",
              "      border-bottom-color: var(--fill-color);\n",
              "      border-left-color: var(--fill-color);\n",
              "    }\n",
              "    20% {\n",
              "      border-color: transparent;\n",
              "      border-left-color: var(--fill-color);\n",
              "      border-top-color: var(--fill-color);\n",
              "    }\n",
              "    30% {\n",
              "      border-color: transparent;\n",
              "      border-left-color: var(--fill-color);\n",
              "      border-top-color: var(--fill-color);\n",
              "      border-right-color: var(--fill-color);\n",
              "    }\n",
              "    40% {\n",
              "      border-color: transparent;\n",
              "      border-right-color: var(--fill-color);\n",
              "      border-top-color: var(--fill-color);\n",
              "    }\n",
              "    60% {\n",
              "      border-color: transparent;\n",
              "      border-right-color: var(--fill-color);\n",
              "    }\n",
              "    80% {\n",
              "      border-color: transparent;\n",
              "      border-right-color: var(--fill-color);\n",
              "      border-bottom-color: var(--fill-color);\n",
              "    }\n",
              "    90% {\n",
              "      border-color: transparent;\n",
              "      border-bottom-color: var(--fill-color);\n",
              "    }\n",
              "  }\n",
              "</style>\n",
              "\n",
              "      <script>\n",
              "        async function quickchart(key) {\n",
              "          const quickchartButtonEl =\n",
              "            document.querySelector('#' + key + ' button');\n",
              "          quickchartButtonEl.disabled = true;  // To prevent multiple clicks.\n",
              "          quickchartButtonEl.classList.add('colab-df-spinner');\n",
              "          try {\n",
              "            const charts = await google.colab.kernel.invokeFunction(\n",
              "                'suggestCharts', [key], {});\n",
              "          } catch (error) {\n",
              "            console.error('Error during call to suggestCharts:', error);\n",
              "          }\n",
              "          quickchartButtonEl.classList.remove('colab-df-spinner');\n",
              "          quickchartButtonEl.classList.add('colab-df-quickchart-complete');\n",
              "        }\n",
              "        (() => {\n",
              "          let quickchartButtonEl =\n",
              "            document.querySelector('#df-32042244-e0af-447f-880a-0ba2d61d3d68 button');\n",
              "          quickchartButtonEl.style.display =\n",
              "            google.colab.kernel.accessAllowed ? 'block' : 'none';\n",
              "        })();\n",
              "      </script>\n",
              "    </div>\n",
              "\n",
              "    </div>\n",
              "  </div>\n"
            ],
            "application/vnd.google.colaboratory.intrinsic+json": {
              "type": "dataframe",
              "summary": "{\n  \"name\": \"display(df\",\n  \"rows\": 5,\n  \"fields\": [\n    {\n      \"column\": \"YearsExperience\",\n      \"properties\": {\n        \"dtype\": \"number\",\n        \"std\": 0.16169189236574633,\n        \"min\": -1.4927329119065347,\n        \"max\": -1.1184121127231696,\n        \"num_unique_values\": 5,\n        \"samples\": [\n          -1.4417218241099532,\n          -1.1184121127231696,\n          -1.3698752215795569\n        ],\n        \"semantic_type\": \"\",\n        \"description\": \"\"\n      }\n    },\n    {\n      \"column\": \"Salary\",\n      \"properties\": {\n        \"dtype\": \"number\",\n        \"std\": 0.12368713633305274,\n        \"min\": -1.4045633263399941,\n        \"max\": -1.1071776622498415,\n        \"num_unique_values\": 5,\n        \"samples\": [\n          -1.1071776622498415,\n          -1.3416981634245373,\n          -1.4045633263399941\n        ],\n        \"semantic_type\": \"\",\n        \"description\": \"\"\n      }\n    }\n  ]\n}"
            }
          },
          "metadata": {}
        }
      ]
    },
    {
      "source": [
        "## Data splitting\n",
        "\n",
        "### Subtask:\n",
        "Split the preprocessed data into training and testing sets.\n"
      ],
      "cell_type": "markdown",
      "metadata": {
        "id": "jfU_FZqGAkxv"
      }
    },
    {
      "source": [
        "**Reasoning**:\n",
        "Split the preprocessed data into training and testing sets using train_test_split.\n",
        "\n"
      ],
      "cell_type": "markdown",
      "metadata": {
        "id": "QY3jMDPtAlmm"
      }
    },
    {
      "source": [
        "from sklearn.model_selection import train_test_split\n",
        "\n",
        "# Split the data into training and testing sets\n",
        "X = df['YearsExperience']\n",
        "y = df['Salary']\n",
        "X_train, X_test, y_train, y_test = train_test_split(X, y, test_size=0.2, random_state=42)\n",
        "\n",
        "# Display shapes of the resulting sets (optional)\n",
        "print(\"X_train shape:\", X_train.shape)\n",
        "print(\"X_test shape:\", X_test.shape)\n",
        "print(\"y_train shape:\", y_train.shape)\n",
        "print(\"y_test shape:\", y_test.shape)"
      ],
      "cell_type": "code",
      "metadata": {
        "colab": {
          "base_uri": "https://localhost:8080/"
        },
        "id": "IxDr-JNyAl2f",
        "outputId": "d8b2c634-bd6e-4c00-9db1-7bad3d7890f2"
      },
      "execution_count": 15,
      "outputs": [
        {
          "output_type": "stream",
          "name": "stdout",
          "text": [
            "X_train shape: (24,)\n",
            "X_test shape: (6,)\n",
            "y_train shape: (24,)\n",
            "y_test shape: (6,)\n"
          ]
        }
      ]
    },
    {
      "source": [
        "## Model training\n",
        "\n",
        "### Subtask:\n",
        "Train a linear regression model on the training data.\n"
      ],
      "cell_type": "markdown",
      "metadata": {
        "id": "7pnN1FY4ApCQ"
      }
    },
    {
      "source": [
        "**Reasoning**:\n",
        "Train a linear regression model on the training data, print the model's coefficients and intercept.\n",
        "\n"
      ],
      "cell_type": "markdown",
      "metadata": {
        "id": "CUin80t8Ap5i"
      }
    },
    {
      "source": [
        "from sklearn.linear_model import LinearRegression\n",
        "\n",
        "# Create and train the model\n",
        "model = LinearRegression()\n",
        "X_train_reshaped = X_train.values.reshape(-1, 1)\n",
        "X_test_reshaped = X_test.values.reshape(-1, 1)\n",
        "model.fit(X_train_reshaped, y_train)\n",
        "\n",
        "# Print coefficients and intercept\n",
        "print(\"Coefficients:\", model.coef_)\n",
        "print(\"Intercept:\", model.intercept_)"
      ],
      "cell_type": "code",
      "metadata": {
        "colab": {
          "base_uri": "https://localhost:8080/"
        },
        "id": "JIak8i5_AqJX",
        "outputId": "a5f3bf09-c471-4453-a6cb-64fec0a257b9"
      },
      "execution_count": 16,
      "outputs": [
        {
          "output_type": "stream",
          "name": "stdout",
          "text": [
            "Coefficients: [0.97590657]\n",
            "Intercept: -0.022473009516315305\n"
          ]
        }
      ]
    },
    {
      "source": [
        "## Model evaluation\n",
        "\n",
        "### Subtask:\n",
        "Evaluate the trained linear regression model using appropriate metrics.\n"
      ],
      "cell_type": "markdown",
      "metadata": {
        "id": "1nptl0iFAtZG"
      }
    },
    {
      "source": [
        "**Reasoning**:\n",
        "Evaluate the trained linear regression model using appropriate metrics (R-squared, MSE, RMSE) and print the results.\n",
        "\n"
      ],
      "cell_type": "markdown",
      "metadata": {
        "id": "xlB7vzX8AuN2"
      }
    },
    {
      "source": [
        "from sklearn.metrics import r2_score, mean_squared_error\n",
        "import numpy as np\n",
        "\n",
        "# Make predictions on the test set\n",
        "y_pred = model.predict(X_test_reshaped)\n",
        "\n",
        "# Evaluate the model\n",
        "r2 = r2_score(y_test, y_pred)\n",
        "mse = mean_squared_error(y_test, y_pred)\n",
        "rmse = np.sqrt(mse)\n",
        "\n",
        "# Print the metrics\n",
        "print(f\"R-squared: {r2}\")\n",
        "print(f\"Mean Squared Error (MSE): {mse}\")\n",
        "print(f\"Root Mean Squared Error (RMSE): {rmse}\")\n",
        "\n",
        "# Discuss the results\n",
        "print(\"\\nModel Evaluation:\")\n",
        "print(f\"The R-squared value of {r2} indicates the proportion of variance in the dependent variable (Salary) that is predictable from the independent variable (YearsExperience). A value close to 1 suggests a good fit, while a value close to 0 indicates a poor fit.\")\n",
        "print(f\"The MSE of {mse} represents the average squared difference between the actual and predicted values. Lower MSE values are desirable, indicating better model accuracy.  The RMSE of {rmse} is the square root of the MSE and is in the same units as the target variable, making it easier to interpret.\")\n",
        "if r2 > 0.8 and mse < 0.2 and rmse < 0.5:\n",
        "    print(\"The model performance is considered good.\")\n",
        "elif r2 > 0.5 and mse < 0.5 and rmse < 0.7:\n",
        "    print(\"The model performance is considered moderate.\")\n",
        "else:\n",
        "    print(\"The model performance may need improvement.\")"
      ],
      "cell_type": "code",
      "metadata": {
        "colab": {
          "base_uri": "https://localhost:8080/"
        },
        "id": "MgJIqbs0Audp",
        "outputId": "ceabd3ae-f4ee-42a4-fe7e-36dc53cde531"
      },
      "execution_count": 17,
      "outputs": [
        {
          "output_type": "stream",
          "name": "stdout",
          "text": [
            "R-squared: 0.9026816690362774\n",
            "Mean Squared Error (MSE): 0.06857953938911521\n",
            "Root Mean Squared Error (RMSE): 0.26187695467359323\n",
            "\n",
            "Model Evaluation:\n",
            "The R-squared value of 0.9026816690362774 indicates the proportion of variance in the dependent variable (Salary) that is predictable from the independent variable (YearsExperience). A value close to 1 suggests a good fit, while a value close to 0 indicates a poor fit.\n",
            "The MSE of 0.06857953938911521 represents the average squared difference between the actual and predicted values. Lower MSE values are desirable, indicating better model accuracy.  The RMSE of 0.26187695467359323 is the square root of the MSE and is in the same units as the target variable, making it easier to interpret.\n",
            "The model performance is considered good.\n"
          ]
        }
      ]
    },
    {
      "source": [
        "# Get user input for years of experience\n",
        "user_experience = float(input(\"Enter years of experience: \"))\n",
        "\n",
        "# Reshape the input to match the model's expected format\n",
        "user_experience_reshaped = np.array(user_experience).reshape(-1, 1)\n",
        "\n",
        "# Create a dummy DataFrame with the same columns as the original DataFrame used for scaling\n",
        "# This is needed because the scaler was fitted on a DataFrame with two columns\n",
        "dummy_df = pd.DataFrame({'YearsExperience': user_experience_reshaped[:, 0], 'Salary': [0]}) # Dummy value for Salary\n",
        "\n",
        "# Now scale the dummy DataFrame\n",
        "scaled_user_experience = scaler.transform(dummy_df)[:, 0]  # Select the scaled YearsExperience and keep it as a 2D array\n",
        "\n",
        "# *** The fix is here: Reshape the scaled_user_experience to be a 2D array with one column ***\n",
        "scaled_user_experience = scaled_user_experience.reshape(-1, 1)\n",
        "\n",
        "# Predict the salary\n",
        "predicted_salary = model.predict(scaled_user_experience)\n",
        "\n",
        "# Instead of directly inverse transforming the predicted salary,\n",
        "# create a DataFrame with the scaled features and then inverse transform\n",
        "# This ensures the scaler has the correct shape to work with\n",
        "predicted_df = pd.DataFrame({'YearsExperience': scaled_user_experience[:, 0], 'Salary': predicted_salary})\n",
        "\n",
        "# Get the inverse transformed values as a NumPy array\n",
        "inversed_data = scaler.inverse_transform(predicted_df)\n",
        "\n",
        "# Access the predicted salary using numerical indexing\n",
        "predicted_salary_actual = inversed_data[0][1] # Access the 'Salary' column (index 1) of the first row (index 0)\n",
        "\n",
        "# Display the predicted salary\n",
        "print(\"Predicted Salary:\", predicted_salary_actual)"
      ],
      "cell_type": "code",
      "metadata": {
        "colab": {
          "base_uri": "https://localhost:8080/"
        },
        "id": "h8BpqTA5C5fs",
        "outputId": "64198a09-a64a-49ec-fab5-beb207853729"
      },
      "execution_count": 20,
      "outputs": [
        {
          "output_type": "stream",
          "name": "stdout",
          "text": [
            "Enter years of experience: 2\n",
            "Predicted Salary: 43192.387232365014\n"
          ]
        }
      ]
    },
    {
      "source": [
        "## Summary:\n",
        "\n",
        "### 1. Q&A\n",
        "\n",
        "* **What is the relationship between years of experience and salary?**  There is a strong positive correlation (0.978) between years of experience and salary.  The linear regression model further supports this, with an R-squared value of 0.903, indicating that approximately 90.3% of the variance in salary can be explained by years of experience.\n",
        "\n",
        "* **How well does the linear regression model perform?** The model performance is considered good based on the evaluation metrics. The R-squared is 0.903, MSE is 0.069, and RMSE is 0.262. These values, particularly the R-squared, suggest a strong fit of the model to the data.\n",
        "\n",
        "### 2. Data Analysis Key Findings\n",
        "\n",
        "* **Strong Positive Correlation:** A strong positive correlation (0.978) exists between 'YearsExperience' and 'Salary'.\n",
        "* **High R-squared Value:** The linear regression model achieved an R-squared value of 0.903, indicating a good fit.\n",
        "* **Low MSE and RMSE:** The model exhibits low Mean Squared Error (0.069) and Root Mean Squared Error (0.262), suggesting accurate predictions.\n",
        "* **No Missing Data:**  The dataset contains no missing values.\n",
        "* **Outliers Addressed:** Potential outliers in 'YearsExperience' and 'Salary' were handled using winsorization.\n",
        "\n",
        "### 3. Insights or Next Steps\n",
        "\n",
        "* **Further Feature Exploration:** While years of experience is a strong predictor, exploring other potential features (e.g., education level, job title, location) could improve model accuracy and provide a more comprehensive understanding of salary determination.\n",
        "* **Model Refinement:** Experiment with different regression models (e.g., polynomial regression, ridge regression) or hyperparameter tuning to potentially improve model performance.\n"
      ],
      "cell_type": "markdown",
      "metadata": {
        "id": "MFHHxwtTAzXG"
      }
    }
  ]
}