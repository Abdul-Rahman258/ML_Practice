{
  "nbformat": 4,
  "nbformat_minor": 0,
  "metadata": {
    "colab": {
      "provenance": [],
      "authorship_tag": "ABX9TyOnlNS+qeUnFsR5wRGHJSGG",
      "include_colab_link": true
    },
    "kernelspec": {
      "name": "python3",
      "display_name": "Python 3"
    },
    "language_info": {
      "name": "python"
    }
  },
  "cells": [
    {
      "cell_type": "markdown",
      "metadata": {
        "id": "view-in-github",
        "colab_type": "text"
      },
      "source": [
        "<a href=\"https://colab.research.google.com/github/Abdul-Rahman258/ML_Practice/blob/main/Model_Creation_And_Model_Training.ipynb\" target=\"_parent\"><img src=\"https://colab.research.google.com/assets/colab-badge.svg\" alt=\"Open In Colab\"/></a>"
      ]
    },
    {
      "cell_type": "code",
      "execution_count": 1,
      "metadata": {
        "colab": {
          "base_uri": "https://localhost:8080/"
        },
        "id": "y9x7vEU1RKy3",
        "outputId": "1943466f-abaf-4043-f797-44e281b456df"
      },
      "outputs": [
        {
          "output_type": "stream",
          "name": "stdout",
          "text": [
            "Model saved to headbrain_model.sav\n"
          ]
        }
      ],
      "source": [
        "# prompt: train a custom model using the headbrain.cvs and then save the model file\n",
        "\n",
        "import pandas as pd\n",
        "from sklearn.model_selection import train_test_split\n",
        "from sklearn.linear_model import LinearRegression\n",
        "import joblib\n",
        "\n",
        "# Load the dataset\n",
        "try:\n",
        "  df = pd.read_csv('headbrain.csv')\n",
        "except FileNotFoundError:\n",
        "  print(\"Error: 'headbrain.csv' not found. Please upload the file.\")\n",
        "  # You might want to add code to handle the file upload here.\n",
        "  # For example, you could use a file upload widget.\n",
        "  exit()\n",
        "\n",
        "\n",
        "# Prepare the data\n",
        "X = df[['Head Size(cm^3)']]\n",
        "y = df['Brain Weight(grams)']\n",
        "\n",
        "# Split data into training and testing sets\n",
        "X_train, X_test, y_train, y_test = train_test_split(X, y, test_size=0.2, random_state=42)\n",
        "\n",
        "# Initialize and train the linear regression model\n",
        "model = LinearRegression()\n",
        "model.fit(X_train, y_train)\n",
        "\n",
        "# Save the model\n",
        "filename = 'headbrain_model.sav'\n",
        "joblib.dump(model, filename)\n",
        "\n",
        "print(f\"Model saved to {filename}\")\n"
      ]
    },
    {
      "cell_type": "code",
      "source": [
        "# prompt: now use the same model to train on headbrain.csv and then predict the value of brain given on user input as head size\n",
        "\n",
        "import pandas as pd\n",
        "from sklearn.model_selection import train_test_split\n",
        "from sklearn.linear_model import LinearRegression\n",
        "import joblib\n",
        "\n",
        "# Load the dataset (assuming it's already loaded from previous code)\n",
        "try:\n",
        "    df = pd.read_csv('headbrain.csv')\n",
        "except FileNotFoundError:\n",
        "    print(\"Error: 'headbrain.csv' not found. Please upload the file.\")\n",
        "    exit()\n",
        "\n",
        "\n",
        "# Prepare the data\n",
        "X = df[['Head Size(cm^3)']]\n",
        "y = df['Brain Weight(grams)']\n",
        "\n",
        "# Split data (already split in previous code)\n",
        "X_train, X_test, y_train, y_test = train_test_split(X, y, test_size=0.2, random_state=42)\n",
        "\n",
        "# Initialize and train (already trained in previous code)\n",
        "model = LinearRegression()\n",
        "model.fit(X_train, y_train)\n",
        "\n",
        "# Load the saved model (no need to train again)\n",
        "filename = 'headbrain_model.sav'\n",
        "loaded_model = joblib.load(filename)\n",
        "\n",
        "# Get user input\n",
        "head_size = float(input(\"Enter head size (cm^3): \"))\n",
        "\n",
        "# Make prediction\n",
        "predicted_brain_weight = loaded_model.predict([[head_size]])\n",
        "\n",
        "print(f\"Predicted brain weight: {predicted_brain_weight[0]} grams\")\n"
      ],
      "metadata": {
        "colab": {
          "base_uri": "https://localhost:8080/"
        },
        "id": "Chy2Fcr9TrJI",
        "outputId": "045363d3-e504-4140-8b95-a21347c76135"
      },
      "execution_count": 2,
      "outputs": [
        {
          "output_type": "stream",
          "name": "stdout",
          "text": [
            "Enter head size (cm^3): 30\n",
            "Predicted brain weight: 336.45804462257064 grams\n"
          ]
        },
        {
          "output_type": "stream",
          "name": "stderr",
          "text": [
            "/usr/local/lib/python3.11/dist-packages/sklearn/utils/validation.py:2739: UserWarning: X does not have valid feature names, but LinearRegression was fitted with feature names\n",
            "  warnings.warn(\n"
          ]
        }
      ]
    }
  ]
}